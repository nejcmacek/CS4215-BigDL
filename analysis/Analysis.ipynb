{
 "cells": [
  {
   "cell_type": "code",
   "execution_count": 36,
   "metadata": {},
   "outputs": [],
   "source": [
    "import pandas as pd\n",
    "import numpy as np\n",
    "import os\n",
    "import json"
   ]
  },
  {
   "cell_type": "code",
   "execution_count": 9,
   "metadata": {},
   "outputs": [],
   "source": [
    "d = \"./result\"\n",
    "\n",
    "dirs_to_analyze = [os.path.join(d, o) for o in os.listdir(d) \n",
    "                    if os.path.isdir(os.path.join(d,o)) and \"\\\\experiment\" in os.path.join(d, o)]\n"
   ]
  },
  {
   "cell_type": "code",
   "execution_count": 42,
   "metadata": {},
   "outputs": [
    {
     "name": "stdout",
     "output_type": "stream",
     "text": [
      "./result\\experiment1_0.001_128_10_1G_1_0.01/accuracy.json\n",
      "./result\\experiment1_0.001_128_10_1G_2_0.01/accuracy.json\n",
      "./result\\experiment1_0.001_128_10_2G_1_0.01/accuracy.json\n",
      "./result\\experiment1_0.001_128_5_1G_1_0.01/accuracy.json\n",
      "./result\\experiment1_0.001_128_5_1G_2_0.01/accuracy.json\n",
      "./result\\experiment1_0.001_128_5_2G_1_0.01/accuracy.json\n",
      "./result\\experiment1_0.001_128_5_2G_2_0.01/accuracy.json\n",
      "./result\\experiment1_0.001_32_10_1G_1_0.01/accuracy.json\n",
      "./result\\experiment1_0.001_32_10_1G_2_0.01/accuracy.json\n",
      "./result\\experiment1_0.001_32_10_2G_1_0.01/accuracy.json\n",
      "./result\\experiment1_0.001_32_10_2G_2_0.01/accuracy.json\n",
      "./result\\experiment1_0.001_32_5_1G_1_0.01/accuracy.json\n",
      "./result\\experiment1_0.001_32_5_1G_2_0.01/accuracy.json\n",
      "./result\\experiment1_0.001_32_5_2G_1_0.01/accuracy.json\n",
      "./result\\experiment1_0.001_32_5_2G_2_0.01/accuracy.json\n",
      "./result\\experiment1_0.01_128_10_1G_1_0.01/accuracy.json\n",
      "./result\\experiment1_0.01_128_10_1G_2_0.01/accuracy.json\n",
      "./result\\experiment1_0.01_128_10_2G_1_0.01/accuracy.json\n",
      "./result\\experiment1_0.01_128_5_1G_1_0.01/accuracy.json\n",
      "./result\\experiment1_0.01_128_5_1G_2_0.01/accuracy.json\n",
      "./result\\experiment1_0.01_128_5_2G_1_0.01/accuracy.json\n",
      "./result\\experiment1_0.01_128_5_2G_2_0.01/accuracy.json\n",
      "./result\\experiment1_0.01_32_10_1G_1_0.01/accuracy.json\n",
      "./result\\experiment1_0.01_32_10_1G_2_0.01/accuracy.json\n",
      "./result\\experiment1_0.01_32_10_2G_1_0.01/accuracy.json\n",
      "./result\\experiment1_0.01_32_10_2G_2_0.01/accuracy.json\n",
      "Expected object or value\n",
      "[Errno 2] No such file or directory: './result\\\\experiment1_0.01_32_10_2G_2_0.01/summary.json'\n",
      "./result\\experiment1_0.01_32_5_1G_1_0.01/accuracy.json\n",
      "./result\\experiment1_0.01_32_5_1G_2_0.01/accuracy.json\n",
      "./result\\experiment1_0.01_32_5_2G_1_0.01/accuracy.json\n",
      "./result\\experiment1_0.01_32_5_2G_2_0.01/accuracy.json\n"
     ]
    }
   ],
   "source": [
    "for curdir in dirs_to_analyze:\n",
    "    print(curdir + \"/accuracy.json\")\n",
    "    try:\n",
    "        accuracy = pd.read_json(curdir + \"/accuracy.json\").transpose()\n",
    "    except Exception as e:\n",
    "        print(e)\n",
    "        \n",
    "    try:\n",
    "        time_summary = json.load(open(curdir + \"/summary.json\"))\n",
    "    except Exception as e:\n",
    "        print(e)\n",
    "    "
   ]
  },
  {
   "cell_type": "code",
   "execution_count": null,
   "metadata": {},
   "outputs": [],
   "source": []
  }
 ],
 "metadata": {
  "kernelspec": {
   "display_name": "Python 3",
   "language": "python",
   "name": "python3"
  },
  "language_info": {
   "codemirror_mode": {
    "name": "ipython",
    "version": 3
   },
   "file_extension": ".py",
   "mimetype": "text/x-python",
   "name": "python",
   "nbconvert_exporter": "python",
   "pygments_lexer": "ipython3",
   "version": "3.7.4"
  }
 },
 "nbformat": 4,
 "nbformat_minor": 2
}
